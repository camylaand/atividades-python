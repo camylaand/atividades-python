{
  "nbformat": 4,
  "nbformat_minor": 0,
  "metadata": {
    "colab": {
      "provenance": []
    },
    "kernelspec": {
      "name": "python3",
      "display_name": "Python 3"
    },
    "language_info": {
      "name": "python"
    }
  },
  "cells": [
    {
      "cell_type": "markdown",
      "source": [
        "1) Escreva um programa que peça dois números inteiros e imprima todos os números inteiros entre eles."
      ],
      "metadata": {
        "id": "z92lHmQLPeOA"
      }
    },
    {
      "cell_type": "code",
      "execution_count": null,
      "metadata": {
        "colab": {
          "base_uri": "https://localhost:8080/"
        },
        "id": "aiA0K7hgNW0O",
        "outputId": "0c24d04e-e38b-4952-a924-2f3302bff6dc"
      },
      "outputs": [
        {
          "output_type": "stream",
          "name": "stdout",
          "text": [
            "Digite o primeiro número: 1\n",
            "Digite o segundo número: 11\n",
            "2\n",
            "3\n",
            "4\n",
            "5\n",
            "6\n",
            "7\n",
            "8\n",
            "9\n"
          ]
        }
      ],
      "source": [
        "num1 = int(input('Digite o primeiro número: '))\n",
        "num2 = int(input('Digite o segundo número: '))\n",
        "\n",
        "inicio = min(num1, num2) + 1\n",
        "fim = max(num1, num2) - 1\n",
        "\n",
        "for i in range(inicio,fim):\n",
        "  print(i)\n"
      ]
    },
    {
      "cell_type": "markdown",
      "source": [
        "2) Escreva um programa para calcular quantos dias levará para a colônia de uma bactéria A ultrapassar ou igualar a colônia de uma bactéria B, com base nas taxas de crescimento de 3% e 1,5% respectivamente. Considere que a colônia A inicia com 4 elementos e a B com 10."
      ],
      "metadata": {
        "id": "pobllN6aROf8"
      }
    },
    {
      "cell_type": "code",
      "source": [
        "colonia_a = 4\n",
        "colonia_b = 10\n",
        "\n",
        "taxa_a = 0.03\n",
        "taxa_b = 0.015\n",
        "\n",
        "dias = 0\n",
        "\n",
        "while colonia_a <= colonia_b:\n",
        "  colonia_a *= 1 + taxa_a\n",
        "  colonia_b *= 1 + taxa_b\n",
        "  dias += 1\n",
        "\n",
        "print(f'Irá levar {dias} dias para a colônia A ultrapassar a colônia B.')"
      ],
      "metadata": {
        "colab": {
          "base_uri": "https://localhost:8080/"
        },
        "id": "UPfXUWMcPbuq",
        "outputId": "89fa5e50-9a6a-4e1b-8160-b31373c83e14"
      },
      "execution_count": null,
      "outputs": [
        {
          "output_type": "stream",
          "name": "stdout",
          "text": [
            "Irá levar 63 dias para a colônia A ultrapassar a colônia B.\n"
          ]
        }
      ]
    },
    {
      "cell_type": "markdown",
      "source": [
        "3) Para tratar uma quantidade de 15 dados de avaliações de pessoas usuárias de um serviço da empresa, precisamos verificar se as notas são válidas. Então, escreva um programa que vai receber a nota de 0 a 5 de todos os dados e verificar se é um valor válido. Caso seja inserido uma nota acima de 5 ou abaixo de 0, repita até que a pessoa usuária insira um valor válido."
      ],
      "metadata": {
        "id": "G91DekNpRs1B"
      }
    },
    {
      "cell_type": "code",
      "source": [
        "for i in range(15):\n",
        "  notas = float(input('Digite uma nota entre 0 e 5: '))\n",
        "  while notas < 0 and notas > 5:\n",
        "    print('Nota Inválida')\n",
        "    notas = float(input('Digite uma nota entre 0 e 5: '))"
      ],
      "metadata": {
        "colab": {
          "base_uri": "https://localhost:8080/"
        },
        "id": "LM4LmsCpRsnW",
        "outputId": "5d5a8156-e7bf-485a-dae6-9fc1e265bbad"
      },
      "execution_count": null,
      "outputs": [
        {
          "name": "stdout",
          "output_type": "stream",
          "text": [
            "Digite uma nota entre 0 e 5: 1\n",
            "Digite uma nota entre 0 e 5: 4\n",
            "Digite uma nota entre 0 e 5: 8\n",
            "Digite uma nota entre 0 e 5: 6\n",
            "Digite uma nota entre 0 e 5: 2\n",
            "Digite uma nota entre 0 e 5: 2\n",
            "Digite uma nota entre 0 e 5: 2\n",
            "Digite uma nota entre 0 e 5: 2\n",
            "Digite uma nota entre 0 e 5: 2\n",
            "Digite uma nota entre 0 e 5: 2\n",
            "Digite uma nota entre 0 e 5: 2\n",
            "Digite uma nota entre 0 e 5: 2\n",
            "Digite uma nota entre 0 e 5: 2\n",
            "Digite uma nota entre 0 e 5: 2\n",
            "Digite uma nota entre 0 e 5: 2\n"
          ]
        }
      ]
    },
    {
      "cell_type": "markdown",
      "source": [
        "4) Desenvolva um programa que leia um conjunto indeterminado de temperaturas em Celsius e informe a média delas. A leitura deve ser encerrada ao ser enviado o valor -273°C."
      ],
      "metadata": {
        "id": "LzSr6iTWVoSS"
      }
    },
    {
      "cell_type": "code",
      "source": [
        "soma = 0\n",
        "quantidade = 0\n",
        "\n",
        "while True:\n",
        "  pergunta = float(input('Digite uma temperatura em Celsius: '))\n",
        "  if pergunta <= -273:\n",
        "    print('Programa encerrado.')\n",
        "    break\n",
        "  soma += pergunta\n",
        "  quantidade += 1\n",
        "\n",
        "if quantidade > 0:\n",
        "  media = soma / quantidade\n",
        "  print(f'A média das temperaturas é: {media}')\n",
        "else:\n",
        "    print('Nenhuma temperatura válida foi digitada.')"
      ],
      "metadata": {
        "colab": {
          "base_uri": "https://localhost:8080/"
        },
        "id": "_66tIfV3VqOO",
        "outputId": "71ad54f9-2bca-4c5b-b62b-f276c7e258ce"
      },
      "execution_count": null,
      "outputs": [
        {
          "output_type": "stream",
          "name": "stdout",
          "text": [
            "Digite uma temperatura em Celsius: 300\n",
            "Digite uma temperatura em Celsius: 500\n",
            "Digite uma temperatura em Celsius: 80\n",
            "Digite uma temperatura em Celsius: 5\n",
            "Digite uma temperatura em Celsius: 9\n",
            "Digite uma temperatura em Celsius: 5\n",
            "Digite uma temperatura em Celsius: 50\n",
            "Digite uma temperatura em Celsius: 88\n",
            "Digite uma temperatura em Celsius: -280\n",
            "Programa encerrado.\n",
            "Programa encerrado.\n",
            "A média das temperaturas é: 129.625\n"
          ]
        }
      ]
    },
    {
      "cell_type": "markdown",
      "source": [
        "5) Escreva um programa que calcule o fatorial de um número inteiro fornecido pela pessoa usuária. Lembrando que o fatorial de um número inteiro é a multiplicação desse número por todos os seus antecessores até o número 1. Por exemplo, o fatorial de 5 é 5 x 4 x 3 x 2 x 1 = 120"
      ],
      "metadata": {
        "id": "KKGh2RJOvCrD"
      }
    },
    {
      "cell_type": "code",
      "source": [
        "#*FOR*\n",
        "pergunta = int(input('Digite um número: '))\n",
        "fatorial = 1\n",
        "if pergunta < 0:\n",
        "  print('Não existe fatorial negativo')\n",
        "else:\n",
        "  for i in range(1, pergunta + 1):\n",
        "    fatorial *= i\n",
        "  print(f'{i}! = {fatorial}')\n",
        "  print(f'O fatorial é {fatorial}')"
      ],
      "metadata": {
        "id": "lS6pJA0qvFNc",
        "colab": {
          "base_uri": "https://localhost:8080/"
        },
        "outputId": "9a38992f-1a21-4cc0-c0b6-a4751b510d28"
      },
      "execution_count": null,
      "outputs": [
        {
          "output_type": "stream",
          "name": "stdout",
          "text": [
            "Digite um número: 5\n",
            "5! = 120\n",
            "O fatorial é 120\n"
          ]
        }
      ]
    },
    {
      "cell_type": "code",
      "source": [
        "#*WHILE*\n",
        "pergunta = int(input('Digite um número: '))\n",
        "if pergunta < 0:\n",
        "  print('Não existe fatorial negativo')\n",
        "else:\n",
        "  fatorial = 1\n",
        "  contador = 1\n",
        "  while contador <= pergunta:\n",
        "      fatorial *= contador\n",
        "      contador += 1\n",
        "  print(f'O fatorial de {pergunta} é {fatorial}')"
      ],
      "metadata": {
        "colab": {
          "base_uri": "https://localhost:8080/"
        },
        "id": "nslONF836u-5",
        "outputId": "7b06be31-1332-4613-e6f5-cb75611bddf1"
      },
      "execution_count": null,
      "outputs": [
        {
          "output_type": "stream",
          "name": "stdout",
          "text": [
            "Digite um número: 5\n",
            "O fatorial de 5 é 120\n"
          ]
        }
      ]
    },
    {
      "cell_type": "code",
      "source": [
        "pergunta = int(input('Digite um número: '))\n",
        "\n",
        "if pergunta < 0:\n",
        "    print('Não existe fatorial negativo')\n",
        "else:\n",
        "    fatorial = 1\n",
        "    contador = pergunta\n",
        "    expressao = \"\"\n",
        "\n",
        "    while contador > 0:\n",
        "        fatorial *= contador\n",
        "        expressao += str(contador)\n",
        "        if contador > 1:\n",
        "            expressao += \" x \"\n",
        "        contador -= 1\n",
        "\n",
        "    print(f\"{expressao} = {fatorial}\")\n"
      ],
      "metadata": {
        "colab": {
          "base_uri": "https://localhost:8080/"
        },
        "id": "d_Ua79WD7Zsc",
        "outputId": "970e2b1f-dd3c-4559-8d07-092db27356ed"
      },
      "execution_count": null,
      "outputs": [
        {
          "output_type": "stream",
          "name": "stdout",
          "text": [
            "Digite um número: 5\n",
            "5 x 4 x 3 x 2 x 1 = 120\n"
          ]
        }
      ]
    },
    {
      "cell_type": "markdown",
      "source": [
        "6) Escreva um programa que gere a tabuada de um número inteiro de 1 a 10, de acordo com a escolha da pessoa usuária."
      ],
      "metadata": {
        "id": "UO6DUj0M7ujE"
      }
    },
    {
      "cell_type": "code",
      "source": [
        "#*FOR*\n",
        "pergunta = int(input('Digite um número: '))\n",
        "\n",
        "for i in range(0,11):\n",
        "  print(f'{pergunta} x {i} = {pergunta * i}')\n"
      ],
      "metadata": {
        "colab": {
          "base_uri": "https://localhost:8080/"
        },
        "id": "9X_I72vB7vGY",
        "outputId": "4793f9c1-f7a4-4f81-cf17-bfa67e1a3bb6"
      },
      "execution_count": null,
      "outputs": [
        {
          "output_type": "stream",
          "name": "stdout",
          "text": [
            "Digite um número: 2\n",
            "2 x 0 = 0\n",
            "2 x 1 = 2\n",
            "2 x 2 = 4\n",
            "2 x 3 = 6\n",
            "2 x 4 = 8\n",
            "2 x 5 = 10\n",
            "2 x 6 = 12\n",
            "2 x 7 = 14\n",
            "2 x 8 = 16\n",
            "2 x 9 = 18\n",
            "2 x 10 = 20\n"
          ]
        }
      ]
    },
    {
      "cell_type": "code",
      "source": [
        "#*WHILE*\n",
        "pergunta = int(input('Digiet um número: '))\n",
        "i = 0\n",
        "while i <= 10:\n",
        "  print(f'{pergunta} X {i} = {pergunta * i}')\n",
        "  i += 1\n"
      ],
      "metadata": {
        "colab": {
          "base_uri": "https://localhost:8080/"
        },
        "id": "rnO2fCei-qFI",
        "outputId": "391017a5-5574-4de7-8fca-882101c1acd9"
      },
      "execution_count": null,
      "outputs": [
        {
          "output_type": "stream",
          "name": "stdout",
          "text": [
            "Digiet um número: 2\n",
            "2 X 0 = 0\n",
            "2 X 1 = 2\n",
            "2 X 2 = 4\n",
            "2 X 3 = 6\n",
            "2 X 4 = 8\n",
            "2 X 5 = 10\n",
            "2 X 6 = 12\n",
            "2 X 7 = 14\n",
            "2 X 8 = 16\n",
            "2 X 9 = 18\n",
            "2 X 10 = 20\n"
          ]
        }
      ]
    },
    {
      "cell_type": "markdown",
      "source": [
        "7) Os números primos possuem várias aplicações dentro da Ciência de Dados em criptografia e segurança, por exemplo. Um número primo é aquele que é divisível apenas por um e por ele mesmo. Assim, faça um programa que peça um número inteiro e determine se ele é ou não um número primo."
      ],
      "metadata": {
        "id": "vpQjDCBK_gYt"
      }
    },
    {
      "cell_type": "code",
      "source": [
        "pergunta = int(input('Digite um número: '))\n",
        "contador = 0\n",
        "\n",
        "for i in range(1, pergunta + 1):\n",
        "  if pergunta % i == 0:\n",
        "    contador += 1\n",
        "\n",
        "if contador == 2:\n",
        "  print(f'{pergunta} é um número primo')\n"
      ],
      "metadata": {
        "colab": {
          "base_uri": "https://localhost:8080/"
        },
        "id": "gVydiXkW_jL2",
        "outputId": "b70cced2-b872-45b7-b4c0-306341224788"
      },
      "execution_count": null,
      "outputs": [
        {
          "output_type": "stream",
          "name": "stdout",
          "text": [
            "Digite um número: 7\n",
            "7 é um número primo\n"
          ]
        }
      ]
    },
    {
      "cell_type": "markdown",
      "source": [
        "8) Vamos entender a distribuição de idades de pensionistas de uma empresa de previdência. Escreva um programa que leia as idades de uma quantidade não informada de clientes e mostre a distribuição em intervalos de [0-25], [26-50], [51-75] e [76-100]. Encerre a entrada de dados com um número negativo."
      ],
      "metadata": {
        "id": "GS6veXzVAuUX"
      }
    },
    {
      "cell_type": "code",
      "source": [
        "while True:\n",
        "  idade = int(input('Digite uma idade: '))\n",
        "  if idade < 0:\n",
        "    print('Idade incorreta')\n",
        "    break\n",
        "  elif 0 < idade <= 25:\n",
        "    print('Você tem entre 0 e 25 anos')\n",
        "  elif 26 <= idade <= 50:\n",
        "    print('Você tem entre 26 e 50 anos')\n",
        "  elif 51 <= idade <= 75:\n",
        "    print('Você tem entre 51 e 75 anos')\n",
        "  elif 76 <= idade <= 100:\n",
        "    print('Você tem entre 76 e 100 anos')\n",
        ""
      ],
      "metadata": {
        "id": "YApQovipAwyW",
        "colab": {
          "base_uri": "https://localhost:8080/"
        },
        "outputId": "323e3735-65b5-421e-eb02-4d76c57e9ae1"
      },
      "execution_count": 3,
      "outputs": [
        {
          "output_type": "stream",
          "name": "stdout",
          "text": [
            "Digite uma idade: -8\n",
            "Idade incorreta\n"
          ]
        }
      ]
    },
    {
      "cell_type": "markdown",
      "source": [
        "9) Em uma eleição para gerência em uma empresa com 20 pessoas colaboradoras, existem quatro candidatos(as). Escreva um programa que calcule o(a) vencedor(a) da eleição. A votação ocorreu da seguinte maneira:\n",
        "\n",
        "Cada colaborador(a) votou em uma das quatro pessoas candidatas (que representamos pelos números 1, 2, 3 e 4).\n",
        "Também foram contabilizados os votos nulos (representados pelo número 5) e os votos em branco (representados pelo número 6)."
      ],
      "metadata": {
        "id": "EVnd1kZ5jzGw"
      }
    },
    {
      "cell_type": "code",
      "source": [
        "voto_cand1 = 0\n",
        "voto_cand2 = 0\n",
        "voto_cand3 = 0\n",
        "voto_cand4 = 0\n",
        "voto_nulo = 0\n",
        "voto_branco = 0\n",
        "\n",
        "for i in range(1,21):\n",
        "  voto = int(input('Digite seu voto: '))\n",
        "  if voto == 1:\n",
        "    voto_cand1 += 1\n",
        "  elif voto == 2:\n",
        "    voto_cand2 += 1\n",
        "  elif voto == 3:\n",
        "    voto_cand3 += 1\n",
        "  elif voto == 4:\n",
        "    voto_cand4 += 1\n",
        "  elif voto == 5:\n",
        "    voto_nulo += 1\n",
        "  elif voto == 6:\n",
        "    voto_branco += 1\n",
        "  else:\n",
        "    print('Voto inválido')\n",
        "\n",
        "print(f'Votos candidato 1: {voto_cand1}')\n",
        "print(f'Votos candidato 2: {voto_cand2}')\n",
        "print(f'Votos candidato 3: {voto_cand3}')\n",
        "print(f'Votos candidato 4: {voto_cand4}')\n",
        "print(f'Votos nulos: {voto_nulo}')\n",
        "print(f'Votos em branco: {voto_branco}')\n",
        "print(f'Percentual de votos nulos: {(voto_nulo / 20 * 100)}')\n",
        "print(f'Percentual de votos em branco: {(voto_branco / 20 * 100)}')"
      ],
      "metadata": {
        "colab": {
          "base_uri": "https://localhost:8080/"
        },
        "id": "L4EL1VgAj2Nm",
        "outputId": "e82e6f1b-5535-4425-dbd9-f4e864f43512"
      },
      "execution_count": 7,
      "outputs": [
        {
          "output_type": "stream",
          "name": "stdout",
          "text": [
            "Digite seu voto: 4\n",
            "Digite seu voto: 4\n",
            "Digite seu voto: 4\n",
            "Digite seu voto: 4\n",
            "Digite seu voto: 1\n",
            "Digite seu voto: 1\n",
            "Digite seu voto: 1\n",
            "Digite seu voto: 1\n",
            "Digite seu voto: 1\n",
            "Digite seu voto: 2\n",
            "Digite seu voto: 2\n",
            "Digite seu voto: 3\n",
            "Digite seu voto: 3\n",
            "Digite seu voto: 3\n",
            "Digite seu voto: 5\n",
            "Digite seu voto: 5\n",
            "Digite seu voto: 6\n",
            "Digite seu voto: 6\n",
            "Digite seu voto: 6\n",
            "Digite seu voto: 3\n",
            "Votos candidato 1: 5\n",
            "Votos candidato 2: 2\n",
            "Votos candidato 3: 4\n",
            "Votos candidato 4: 4\n",
            "Votos nulos: 2\n",
            "Votos em branco: 3\n",
            "Percentual de votos nulos: 10.0\n",
            "Percentual de votos em branco: 15.0\n"
          ]
        }
      ]
    }
  ]
}