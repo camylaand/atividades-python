{
  "nbformat": 4,
  "nbformat_minor": 0,
  "metadata": {
    "colab": {
      "provenance": []
    },
    "kernelspec": {
      "name": "python3",
      "display_name": "Python 3"
    },
    "language_info": {
      "name": "python"
    }
  },
  "cells": [
    {
      "cell_type": "markdown",
      "source": [
        "1) Escreva um programa que peça à pessoa usuária para fornecer dois números e exibir o número maior."
      ],
      "metadata": {
        "id": "l01i9nDxmWo9"
      }
    },
    {
      "cell_type": "code",
      "execution_count": 3,
      "metadata": {
        "colab": {
          "base_uri": "https://localhost:8080/"
        },
        "id": "XxH30H0PmHp7",
        "outputId": "e2a44834-eebd-4c03-b8b8-8d2e94482d23"
      },
      "outputs": [
        {
          "output_type": "stream",
          "name": "stdout",
          "text": [
            "Escreva o primeiro numero:5\n",
            "Escreva o segundo numero:1\n",
            "O primeiro número é maior\n"
          ]
        }
      ],
      "source": [
        "num1 = int(input(\"Escreva o primeiro numero:\"))\n",
        "num2 = int(input(\"Escreva o segundo numero:\"))\n",
        "\n",
        "if num1 > num2:\n",
        "  print('O primeiro número é maior')\n",
        "else:\n",
        "  print('O segundo número é maior')"
      ]
    },
    {
      "cell_type": "markdown",
      "source": [
        "2) Escreva um programa que solicite o percentual de crescimento de produção de uma empresa e informe se houve um crescimento (porcentagem positiva) ou decrescimento (porcentagem negativa)."
      ],
      "metadata": {
        "id": "dtMFdypUmPdK"
      }
    },
    {
      "cell_type": "code",
      "source": [
        "percentual = int(input('Qual foi o percentual da empresa: '))\n",
        "\n",
        "if percentual < 0:\n",
        "  print('Houve um decrescimento')\n",
        "else:\n",
        "  print('Houve um crescimento')"
      ],
      "metadata": {
        "colab": {
          "base_uri": "https://localhost:8080/"
        },
        "id": "ZWYd9QEInCaV",
        "outputId": "b2861fe3-a33b-406f-87b7-90cd69f993b1"
      },
      "execution_count": 8,
      "outputs": [
        {
          "output_type": "stream",
          "name": "stdout",
          "text": [
            "Qual foi o percentual da empresa: -20\n",
            "Houve um decrescimento\n"
          ]
        }
      ]
    },
    {
      "cell_type": "markdown",
      "source": [
        "3) Escreva um programa que determine se uma letra fornecida pela pessoa usuária é uma vogal ou consoante."
      ],
      "metadata": {
        "id": "_fPByWpnmMg2"
      }
    },
    {
      "cell_type": "code",
      "source": [
        "letra = str(input('Digite uma letra: '))\n",
        "\n",
        "if letra == 'a' or letra == 'e' or letra == 'i' or letra == 'o' or letra == 'u':\n",
        "  print('é vogal')\n",
        "else:\n",
        "  print('é consoante')"
      ],
      "metadata": {
        "colab": {
          "base_uri": "https://localhost:8080/"
        },
        "id": "Gji8tzJtoCgC",
        "outputId": "ab4c6e78-35f5-46a0-83c1-f1f94cc367c1"
      },
      "execution_count": 15,
      "outputs": [
        {
          "output_type": "stream",
          "name": "stdout",
          "text": [
            "Digite uma letra: m\n",
            "é consoante\n"
          ]
        }
      ]
    },
    {
      "cell_type": "markdown",
      "source": [
        "4) Escreva um programa que leia valores médios de preços de um modelo de carro por 3 anos consecutivos e exiba o valor mais alto e mais baixo entre esses três anos."
      ],
      "metadata": {
        "id": "_zmkvaJOmKK9"
      }
    },
    {
      "cell_type": "code",
      "source": [
        "ano1 = float(input('Digite o primeiro valor do carro: '))\n",
        "ano2 = float(input('Digite o segundo valor do carro: '))\n",
        "ano3 = float(input('Digite o terceiro valor do carro: '))\n",
        "\n",
        "if ano1 > ano2 and ano1 > ano3:\n",
        "  print('O primeiro valor é mais alto')\n",
        "elif ano2 > ano1 and ano2 > ano3:\n",
        "  print('O segundo valor é o mais alto')\n",
        "else:\n",
        "  print('O terceiro valor é o mais alto')\n",
        "\n",
        "\n",
        "if ano1 < ano2 and ano1 < ano3:\n",
        "  print('O primeiro valor é o mais baixo')\n",
        "elif ano2 < ano1 and ano2 < ano3:\n",
        "  print('O segundo valor é o mais baixo')\n",
        "else:\n",
        "  print('O terceiro valor é o mais baixo')"
      ],
      "metadata": {
        "colab": {
          "base_uri": "https://localhost:8080/"
        },
        "id": "fj5XPNdTovaI",
        "outputId": "e7cfd272-9b8a-4721-ff4a-b7a605adc767"
      },
      "execution_count": 17,
      "outputs": [
        {
          "output_type": "stream",
          "name": "stdout",
          "text": [
            "Digite o primeiro valor do carro: 50.000\n",
            "Digite o segundo valor do carro: 55.000\n",
            "Digite o terceiro valor do carro: 20.000\n",
            "O segundo valor é o mais alto\n",
            "O terceiro valor é o mais baixo\n"
          ]
        }
      ]
    },
    {
      "cell_type": "markdown",
      "source": [
        "5) Escreva um programa que pergunte sobre o preço de três produtos e indique qual é o produto mais barato para comprar.."
      ],
      "metadata": {
        "id": "hYjJL6DpmH8w"
      }
    },
    {
      "cell_type": "code",
      "source": [
        "preco1 = float(input('Digite o preço do primeiro produto: '))\n",
        "preco2 = float(input('Digite o preço do segundo produto: '))\n",
        "preco3 = float(input('Digite o preço do terceito produto: '))\n",
        "\n",
        "if preco1 < preco2 and preco1 < preco3:\n",
        "  print('O primeiro produto é o mais barato')\n",
        "elif preco2 < preco1 and preco2 < preco3:\n",
        "  print('O segundo produto é o mais barato')\n",
        "else:\n",
        "  print('O terceiro produto é o mais barato')"
      ],
      "metadata": {
        "colab": {
          "base_uri": "https://localhost:8080/"
        },
        "id": "4iVx4R9iugEe",
        "outputId": "0c1b4f9a-fb51-4e42-fa8d-eb9885a40375"
      },
      "execution_count": 29,
      "outputs": [
        {
          "output_type": "stream",
          "name": "stdout",
          "text": [
            "Digite o preço do primeiro produto: 5\n",
            "Digite o preço do segundo produto: 8\n",
            "Digite o preço do terceito produto: 4\n",
            "O terceiro produto é o mais barato\n"
          ]
        }
      ]
    },
    {
      "cell_type": "markdown",
      "source": [
        "6) Escreva um programa que leia três números e os exiba em ordem decrescente."
      ],
      "metadata": {
        "id": "1nif2AP0mvXZ"
      }
    },
    {
      "cell_type": "markdown",
      "source": [
        "Foi com uma ajuda"
      ],
      "metadata": {
        "id": "gbj7XmaUudjA"
      }
    },
    {
      "cell_type": "code",
      "source": [
        "valor1 = float(input('Digite o primeiro valor: '))\n",
        "valor2 = float(input('Digite o sgeundo valor: '))\n",
        "valor3 = float(input('Digite o terceiro valor: '))\n",
        "\n",
        "if valor1 > valor2 and valor1 > valor3:\n",
        "  if valor2 > valor3:\n",
        "    print(f'{valor1}, {valor2}, {valor3}')\n",
        "  else:\n",
        "    print(f'{valor1}, {valor3}, {valor2}')\n",
        "elif valor2 > valor1 and valor2 > valor3:\n",
        "  if valor1 > valor3:\n",
        "    print(f'{valor2}, {valor1}, {valor3}')\n",
        "  else:\n",
        "    print(f'{valor2}, {valor3}, {valor1}')"
      ],
      "metadata": {
        "colab": {
          "base_uri": "https://localhost:8080/"
        },
        "id": "C7Hgu4y6r251",
        "outputId": "b1d3ae78-fd56-40e5-812f-f7a9efb44951"
      },
      "execution_count": 19,
      "outputs": [
        {
          "output_type": "stream",
          "name": "stdout",
          "text": [
            "Digite o primeiro valor: 5\n",
            "Digite o sgeundo valor: 9\n",
            "Digite o terceiro valor: 1\n",
            "9.0, 5.0, 1.0\n"
          ]
        }
      ]
    },
    {
      "cell_type": "markdown",
      "source": [
        "7) Escreva um programa que pergunte em qual turno a pessoa usuária estuda (\"manhã\", \"tarde\" ou \"noite\") e exiba a mensagem \"Bom Dia!\", \"Boa Tarde!\", \"Boa Noite!\", ou \"Valor Inválido!\", conforme o caso."
      ],
      "metadata": {
        "id": "QH8ECvcTmERj"
      }
    },
    {
      "cell_type": "code",
      "source": [
        "turno = str(input('Em qual horário você estuda? '))\n",
        "\n",
        "if turno == 'manhã':\n",
        "  print('Bom dia!')\n",
        "elif turno == 'tarde':\n",
        "  print('Boa tarde!')\n",
        "elif turno == 'noite':\n",
        "  print('Boa noite!')\n",
        "else:\n",
        "  print('Valor inválido\"')"
      ],
      "metadata": {
        "colab": {
          "base_uri": "https://localhost:8080/"
        },
        "id": "ykrNXSDzufq3",
        "outputId": "b8389099-8eca-433f-9521-05620be80cbb"
      },
      "execution_count": 23,
      "outputs": [
        {
          "output_type": "stream",
          "name": "stdout",
          "text": [
            "Em qual horário você estuda? vf\n",
            "Valor inválido\"\n"
          ]
        }
      ]
    },
    {
      "cell_type": "markdown",
      "source": [
        "8) Escreva um programa que peça um número inteiro à pessoa usuária e determine se ele é par ou ímpar. Dica: Você pode utilizar o operador módulo %"
      ],
      "metadata": {
        "id": "yf1NqtBpmAxd"
      }
    },
    {
      "cell_type": "code",
      "source": [
        "num = int(input('Digite um número: '))\n",
        "if num % 2 == 0:\n",
        "  print('O número é par')\n",
        "else:\n",
        "  print('O número é ímpar')"
      ],
      "metadata": {
        "colab": {
          "base_uri": "https://localhost:8080/"
        },
        "id": "eC17dJnivL5Y",
        "outputId": "3b71e700-f8b7-4fd2-a791-cb12abce350d"
      },
      "execution_count": 26,
      "outputs": [
        {
          "output_type": "stream",
          "name": "stdout",
          "text": [
            "Digite um número: 12\n",
            "O número é par\n"
          ]
        }
      ]
    },
    {
      "cell_type": "markdown",
      "source": [
        "9) Escreva um programa que peça um número à pessoa usuária e informe se ele é inteiro ou decimal."
      ],
      "metadata": {
        "id": "jUsXPDwvl-hW"
      }
    },
    {
      "cell_type": "code",
      "source": [
        "num = float(input('Digite um número: '))\n",
        "if num % 1 == 0:\n",
        "  print('O número é inteiro')\n",
        "else:\n",
        "  print('O número é decimal')"
      ],
      "metadata": {
        "colab": {
          "base_uri": "https://localhost:8080/"
        },
        "id": "mfxbDCodvkcE",
        "outputId": "cc4d4f51-5215-40e2-ae46-dc4a30af5fc4"
      },
      "execution_count": 34,
      "outputs": [
        {
          "output_type": "stream",
          "name": "stdout",
          "text": [
            "Digite um número: 54.8\n",
            "O número é decimal\n"
          ]
        }
      ]
    },
    {
      "cell_type": "markdown",
      "source": [
        "10) Um programa deve ser escrito para ler dois números e, em seguida, perguntar à pessoa usuária qual operação ele deseja realizar. O resultado da operação deve incluir informações sobre o número - se é par ou ímpar, positivo ou negativo e inteiro ou decimal."
      ],
      "metadata": {
        "id": "Rlm9eehDl7v8"
      }
    },
    {
      "cell_type": "code",
      "source": [
        "num1 = float(input('Digite o primeiro número: '))\n",
        "num2 = float(input('Digite o segundo número: '))\n",
        "\n",
        "print('Qual operação você vai querer? ')\n",
        "print('1 = Adição')\n",
        "print('2 = subtração')\n",
        "print('3 = multiplicação')\n",
        "print('4 = divisão')\n",
        "\n",
        "operacao = int(input('Digite o número da operação: '))\n",
        "\n",
        "if operacao == 1:\n",
        "  resultado = num1 + num2\n",
        "  print(f'O resultado de {num1} + {num2} = {resultado}')\n",
        "elif operacao == 2:\n",
        "  resultado = num1 - num2\n",
        "  print(f'O resultado de {num1} - {num2} = {resultado}')\n",
        "elif operacao == 3:\n",
        "  resultado = num1 * num2\n",
        "  print(f'O resultado de {num1} x {num2} = {resultado}')\n",
        "elif operacao == 4:\n",
        "  resultado = num1 / num2\n",
        "  print(f'O resultado de {num1} % {num2} = {resultado}')\n",
        "else:\n",
        "  print('Opção inválida')\n",
        "\n",
        "if resultado % 2 == 0:\n",
        "  print('O resultado é par')\n",
        "else:\n",
        "  print('O resultado é ímpar')\n",
        "\n",
        "if resultado % 1 == 0:\n",
        "  print('O resultado é inteiro')\n",
        "else:\n",
        "  print('O resultado é decimal')\n",
        "\n",
        "if resultado < 0:\n",
        "  print('O resultado é negativo')\n",
        "else:\n",
        "  print('O resultado é positivo')"
      ],
      "metadata": {
        "colab": {
          "base_uri": "https://localhost:8080/"
        },
        "id": "q973UZ_Sv98J",
        "outputId": "0e479f10-449d-47cc-8c34-f20f0f811079"
      },
      "execution_count": 1,
      "outputs": [
        {
          "output_type": "stream",
          "name": "stdout",
          "text": [
            "Digite o primeiro número: 10\n",
            "Digite o segundo número: 5\n",
            "Qual operação você vai querer? \n",
            "1 = Adição\n",
            "2 = subtração\n",
            "3 = multiplicação\n",
            "4 = divisão\n",
            "Digite o número da operação: 1\n",
            "O resultado de 10.0 + 5.0 = 15.0\n",
            "O resultado é ímpar\n",
            "O resultado é inteiro\n",
            "O resultado é positivo\n"
          ]
        }
      ]
    },
    {
      "cell_type": "markdown",
      "source": [
        "11) Escreva um programa que peça à pessoa usuária três números que representam os lados de um triângulo. O programa deve informar se os valores podem ser utilizados para formar um triângulo e, caso afirmativo, se ele é equilátero, isósceles ou escaleno. Tenha em mente algumas dicas:\n",
        "\n",
        "Três lados formam um triângulo quando a soma de quaisquer dois lados for maior que o terceiro;\n",
        "Triângulo Equilátero: três lados iguais;\n",
        "Triângulo Isósceles: quaisquer dois lados iguais;\n",
        "Triângulo Escaleno: três lados diferentes."
      ],
      "metadata": {
        "id": "cBEryLt2l4uC"
      }
    },
    {
      "cell_type": "code",
      "source": [
        "num1 = float(input('Digite o primeiro número: '))\n",
        "num2 = float(input('Digite o segundo número: '))\n",
        "num3 = float(input('Digite o terceiro número: '))\n",
        "\n",
        "if num1 == num2 and num1 == num3:\n",
        "  print('Triângulo equilátero: tem três lados iguais')\n",
        "elif num1 == num2 or num1 == num3 or num2 == num3:\n",
        "  print('Triângulo isósceles: tem dois lados iguais')\n",
        "else:\n",
        "  print('Triângulo escaleno: tem três lados diferentes')"
      ],
      "metadata": {
        "colab": {
          "base_uri": "https://localhost:8080/"
        },
        "id": "MCWDU9ckjmjY",
        "outputId": "06b4011c-8959-41e6-899c-eec33a6f93c1"
      },
      "execution_count": 6,
      "outputs": [
        {
          "output_type": "stream",
          "name": "stdout",
          "text": [
            "Digite o primeiro número: 10\n",
            "Digite o segundo número: 5\n",
            "Digite o terceiro número: 7\n",
            "Triângulo escaleno: tem três lados diferentes\n"
          ]
        }
      ]
    },
    {
      "cell_type": "markdown",
      "source": [
        "12) Um estabelecimento está vendendo combustíveis com descontos variados. Para o etanol, se a quantidade comprada for até 15 litros, o desconto será de 2% por litro. Caso contrário, será de 4% por litro. Para o diesel, se a quantidade comprada for até 15 litros, o desconto será de 3% por litro. Caso contrário, será de 5% por litro. O preço do litro de diesel é R$ 2,00 e o preço do litro de etanol é R$ 1,70. Escreva um programa que leia a quantidade de litros vendidos e o tipo de combustível (E para etanol e D para diesel) e calcule o valor a ser pago pelo cliente. Tenha em mente algumas dicas:\n",
        "\n",
        "O do valor do desconto será a multiplicação entre preço do litro, quantidade de litros e o valor do desconto.\n",
        "O valor a ser pago por um cliente será o resultado da multiplicação do preço do litro pela quantidade de litros menos o valor de desconto resultante do cálculo."
      ],
      "metadata": {
        "id": "WH-L__vll01l"
      }
    },
    {
      "cell_type": "code",
      "source": [
        "litros = float(input('Digite a quantidade de litros: '))\n",
        "print('E = etanol')\n",
        "print('D = diesel')\n",
        "combu = str(input('Qual o tipo de combustível? '))\n",
        "\n",
        "if combu == 'E':\n",
        "  if litros <= 15:\n",
        "    desconto = 0.02\n",
        "  else:\n",
        "    desconto = 0.04\n",
        "elif combu == 'D':\n",
        "  if litros <= 15:\n",
        "    desconto = 0.03\n",
        "  else:\n",
        "    desconto = 0.05\n",
        "else:\n",
        "  print('Combustivel inválido')\n",
        "  desconto = 0\n",
        "\n",
        "preco_litro = 0\n",
        "if combu == 'E':\n",
        "  preco_litro = 1.70\n",
        "elif combu == 'D':\n",
        "  preco_litro = 2\n",
        "\n",
        "valor_bruto = preco_litro * litros\n",
        "valor_desconto = valor_bruto * desconto\n",
        "valor_final = valor_bruto - valor_desconto\n",
        "\n",
        "print(f'O valor do desconto é: R$ {valor_desconto:.2f}')\n",
        "print(f'O valor a ser pago é: R$ {valor_final:.2f}')"
      ],
      "metadata": {
        "colab": {
          "base_uri": "https://localhost:8080/"
        },
        "id": "nmlpAoDTliCg",
        "outputId": "d27dc46b-956e-4352-8507-31d6c207790d"
      },
      "execution_count": 9,
      "outputs": [
        {
          "output_type": "stream",
          "name": "stdout",
          "text": [
            "Digite a quantidade de litros: 20\n",
            "E = etanol\n",
            "D = diesel\n",
            "Qual o tipo de combustível? E\n",
            "O valor do desconto é: R$ 1.36\n",
            "O valor a ser pago é: R$ 32.64\n"
          ]
        }
      ]
    },
    {
      "cell_type": "markdown",
      "source": [
        "13) Em uma empresa de venda de imóveis você precisa criar um código que analise os dados de vendas anuais para ajudar a diretoria na tomada de decisão. O código precisa coletar os dados de quantidade de venda durante os anos de 2022 e 2023 e fazer um cálculo de variação percentual. A partir do valor da variação, deve ser enviada às seguintes sugestões:\n",
        "\n",
        "Para variação acima de 20%: bonificação para o time de vendas.\n",
        "Para variação entre 2% e 20%: pequena bonificação para time de vendas.\n",
        "Para variação entre 2% e -10%: planejamento de políticas de incentivo às vendas.\n",
        "Para bonificações abaixo de -10%: corte de gastos."
      ],
      "metadata": {
        "id": "4cDw_t7Hq3VK"
      }
    },
    {
      "cell_type": "code",
      "source": [
        "venda22 = float(input('Digite a quantidade de vendas em 2022: '))\n",
        "venda23 = float(input('Digite a quantidade de vendas em 2023: '))\n",
        "\n",
        "variacao = 100 * (venda23 - venda22) / (venda22)\n",
        "\n",
        "if variacao > 20:\n",
        "  print('Bonificação para o time de vendas')\n",
        "elif 2 <= variacao <= 20:\n",
        "  print('Pequena bonificação para o time de vendas')\n",
        "elif -10 <= variacao < 2:\n",
        "  print('Planejamento de políticas de incentivo às vendas')\n",
        "else:\n",
        "  print('Corte de gastor')"
      ],
      "metadata": {
        "colab": {
          "base_uri": "https://localhost:8080/"
        },
        "id": "NbENWP1tq7E-",
        "outputId": "fc8faa89-d0f2-4bd0-91ef-b512c6a9f9ca"
      },
      "execution_count": 26,
      "outputs": [
        {
          "output_type": "stream",
          "name": "stdout",
          "text": [
            "Digite a quantidade de vendas em 2022: 100\n",
            "Digite a quantidade de vendas em 2023: 200\n",
            "Bonificação para o time de vendas\n"
          ]
        }
      ]
    }
  ]
}