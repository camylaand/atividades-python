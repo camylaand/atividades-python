{
  "nbformat": 4,
  "nbformat_minor": 0,
  "metadata": {
    "colab": {
      "provenance": []
    },
    "kernelspec": {
      "name": "python3",
      "display_name": "Python 3"
    },
    "language_info": {
      "name": "python"
    }
  },
  "cells": [
    {
      "cell_type": "markdown",
      "source": [
        "1) Faça um programa que tenha a seguinte lista contendo os valores de gastos de uma empresa de papel [2172.54, 3701.35, 3518.09, 3456.61, 3249.38, 2840.82, 3891.45, 3075.26, 2317.64, 3219.08]. Com esses valores, faça um programa que calcule a média de gastos. Dica: use as funções built-in sum() e len()."
      ],
      "metadata": {
        "id": "JtsrJWHbblpA"
      }
    },
    {
      "cell_type": "code",
      "execution_count": null,
      "metadata": {
        "colab": {
          "base_uri": "https://localhost:8080/"
        },
        "id": "xPBCg4nhXQm0",
        "outputId": "975f05e3-9e00-4899-a9ba-3fd2166ab0a5"
      },
      "outputs": [
        {
          "output_type": "stream",
          "name": "stdout",
          "text": [
            "3144.222\n"
          ]
        }
      ],
      "source": [
        "num = [2172.54, 3701.35, 3518.09, 3456.61, 3249.38, 2840.82, 3891.45, 3075.26, 2317.64, 3219.08]\n",
        "soma = sum(num)\n",
        "conta = len(num)\n",
        "media = soma / conta\n",
        "print(media)"
      ]
    },
    {
      "cell_type": "markdown",
      "source": [
        "2) Com os mesmos dados da questão anterior, defina quantas compras foram realizadas acima de 3000 reais e calcule a porcentagem quanto ao total de compras."
      ],
      "metadata": {
        "id": "Gv0NgQNEboMZ"
      }
    },
    {
      "cell_type": "code",
      "source": [
        "num = [2172.54, 3701.35, 3518.09, 3456.61, 3249.38, 2840.82, 3891.45, 3075.26, 2317.64, 3219.08]\n",
        "contador = 0\n",
        "for i in num:\n",
        "  if i > 3000:\n",
        "    contador += 1\n",
        "total = len(num)\n",
        "porcetagem = (contador / total) * 100\n",
        "print(f'Compras acima de 3000: {contador}')\n",
        "print(f'Porcentagem: {porcetagem}')"
      ],
      "metadata": {
        "colab": {
          "base_uri": "https://localhost:8080/"
        },
        "id": "bAe-YN4WbnxV",
        "outputId": "275c3d16-1cf4-4230-bfb8-1b2afa15ea43"
      },
      "execution_count": null,
      "outputs": [
        {
          "output_type": "stream",
          "name": "stdout",
          "text": [
            "Compras acima de 3000: 7\n",
            "Porcentagem: 70.0\n"
          ]
        }
      ]
    },
    {
      "cell_type": "markdown",
      "source": [
        "3) Faça um código que colete em uma lista 5 números inteiros quaisquer e imprima a lista. Exemplo: [1,4,7,2,4]."
      ],
      "metadata": {
        "id": "ETbHNxczeOr4"
      }
    },
    {
      "cell_type": "code",
      "source": [
        "lista = []\n",
        "for i in range(5):\n",
        "  num = int(input('Digite um número: '))\n",
        "  lista.append(num)\n",
        "print(lista)"
      ],
      "metadata": {
        "id": "MFHgLw3ReRzB",
        "colab": {
          "base_uri": "https://localhost:8080/"
        },
        "outputId": "30bd11ab-1c17-4c73-885e-451c65724595"
      },
      "execution_count": null,
      "outputs": [
        {
          "output_type": "stream",
          "name": "stdout",
          "text": [
            "Digite um número: 4\n",
            "Digite um número: 5\n",
            "Digite um número: 6\n",
            "Digite um número: 2\n",
            "Digite um número: 6\n",
            "[4, 5, 6, 2, 6]\n"
          ]
        }
      ]
    },
    {
      "cell_type": "markdown",
      "source": [
        "4) Colete novamente 5 inteiros e imprima a lista em ordem inversa à enviada."
      ],
      "metadata": {
        "id": "iKxJoI09bc2K"
      }
    },
    {
      "cell_type": "code",
      "source": [
        "lista = []\n",
        "for i in range(5):\n",
        "  num = int(input('Digite um número: '))\n",
        "  lista.append(num)\n",
        "print(list(reversed(lista)))"
      ],
      "metadata": {
        "colab": {
          "base_uri": "https://localhost:8080/"
        },
        "id": "i2rwk7FaZnQu",
        "outputId": "33f0df5c-7d49-4557-9557-89a8a3356dd9"
      },
      "execution_count": null,
      "outputs": [
        {
          "output_type": "stream",
          "name": "stdout",
          "text": [
            "Digite um número: 5\n",
            "Digite um número: 4\n",
            "Digite um número: 3\n",
            "Digite um número: 2\n",
            "Digite um número: 1\n",
            "[1, 2, 3, 4, 5]\n"
          ]
        }
      ]
    },
    {
      "cell_type": "markdown",
      "source": [
        "5) Faça um programa que, ao inserir um número qualquer, cria uma lista contendo todos os números primos entre 1 e o número digitado."
      ],
      "metadata": {
        "id": "TBNwtIPIbcOz"
      }
    },
    {
      "cell_type": "code",
      "source": [
        "n = int(input('Digite um número: '))\n",
        "\n",
        "listar_primos = []\n",
        "\n",
        "for x in range(2, n + 1):\n",
        "  primo = True\n",
        "  for y in range(2, x):\n",
        "    if x % y == 0:\n",
        "      primo = False\n",
        "      break\n",
        "  if primo:\n",
        "    listar_primos.append(x)\n",
        "\n",
        "print(listar_primos)"
      ],
      "metadata": {
        "id": "ojhoJPBebg7M",
        "colab": {
          "base_uri": "https://localhost:8080/"
        },
        "outputId": "853894ca-e2ca-4dda-c76b-df98fbc01832"
      },
      "execution_count": null,
      "outputs": [
        {
          "output_type": "stream",
          "name": "stdout",
          "text": [
            "Digite um número: 5\n",
            "[2, 3, 5]\n"
          ]
        }
      ]
    },
    {
      "cell_type": "markdown",
      "source": [
        "6) Escreva um programa que peça uma data informando o dia, mês e ano e determine se ela é válida para uma análise."
      ],
      "metadata": {
        "id": "KKpKr76mvgKB"
      }
    },
    {
      "cell_type": "code",
      "source": [
        "dia = int(input('Digite o dia: '))\n",
        "mes = int(input('Digite o mês: '))\n",
        "ano = int(input('Digite o ano: '))\n",
        "\n",
        "if mes == 2:\n",
        "  if ano % 4 == 0 and (ano % 400 == 0 or ano % 100 != 0):\n",
        "    dias_fevereiro = 29\n",
        "  else:\n",
        "    dias_fevereiro = 28\n",
        "  if dia >= 1 and dia <= dias_fevereiro:\n",
        "    print('Data válida')\n",
        "  else:\n",
        "    print('Data inválida')\n",
        "elif mes in [1, 3, 5, 7, 8, 10, 12]:\n",
        "  if dia >= 1 and dia <= 31:\n",
        "    print('Data válida')\n",
        "  else:\n",
        "    print('Data inválida')\n",
        "elif mes in [4, 6, 9, 11]:\n",
        "  if dia >= 1 and dia <= 30:\n",
        "    print('Data válida')\n",
        "  else:\n",
        "    print('Data inválida')\n",
        "else:\n",
        "  print('Data inválida')"
      ],
      "metadata": {
        "colab": {
          "base_uri": "https://localhost:8080/"
        },
        "id": "UhMLuYJyvh2l",
        "outputId": "1aa07bfd-3cfb-41c9-d8db-bc609530ece3"
      },
      "execution_count": null,
      "outputs": [
        {
          "output_type": "stream",
          "name": "stdout",
          "text": [
            "Digite o dia: 2\n",
            "Digite o mês: 2\n",
            "Digite o ano: 2000\n",
            "Data válida\n"
          ]
        }
      ]
    },
    {
      "cell_type": "markdown",
      "source": [
        "7) Para um estudo envolvendo o nível de multiplicação de bactérias em uma colônia, foi coletado o número de bactérias por dia (em milhares) e pode ser observado a seguir: [1.2, 2.1, 3.3, 5.0, 7.8, 11.3, 16.6, 25.1, 37.8, 56.9]. Tendo esses valores, faça um código que gere uma lista contendo o percentual de crescimento de bactérias por dia, comparando o número de bactérias em cada dia com o número de bactérias do dia anterior. Dica: para calcular o percentual de crescimento usamos a seguinte equação: 100 * (amostra_atual - amostra_passada) / (amostra_passada)."
      ],
      "metadata": {
        "id": "wNZ5KvMny_KA"
      }
    },
    {
      "cell_type": "code",
      "source": [
        "lista_atual = [1.2, 2.1, 3.3, 5.0, 7.8, 11.3, 16.6, 25.1, 37.8, 56.9]\n",
        "lista_crecimento = []\n",
        "\n",
        "for i in range(1, len(lista_atual)):\n",
        "  cresciemnto = 100 * (lista_atual[i] - lista_atual[i - 1]) / lista_atual[i - 1]\n",
        "  lista_crecimento.append(cresciemnto)\n",
        "\n",
        "print(lista_crecimento)\n"
      ],
      "metadata": {
        "colab": {
          "base_uri": "https://localhost:8080/"
        },
        "id": "zfMtBe1Xy-rk",
        "outputId": "ee7cd44f-64e1-4b6f-9f33-ed8f221d4a82"
      },
      "execution_count": null,
      "outputs": [
        {
          "output_type": "stream",
          "name": "stdout",
          "text": [
            "[75.00000000000001, 57.142857142857125, 51.51515151515153, 56.0, 44.87179487179489, 46.90265486725664, 51.20481927710843, 50.59760956175297, 50.52910052910054]\n"
          ]
        }
      ]
    },
    {
      "cell_type": "markdown",
      "source": [
        "8) Para uma seleção de produtos alimentícios, precisamos separar o conjunto de IDs dados por números inteiros sabendo que os produtos com ID par são doces e os com ID ímpar são amargos. Monte um código que colete 10 IDs. Depois, calcule e mostre a quantidade de produtos doces e amargos."
      ],
      "metadata": {
        "id": "T7DiXOyA0Xyf"
      }
    },
    {
      "cell_type": "code",
      "source": [
        "doces = []\n",
        "amargos = []\n",
        "\n",
        "for i in range(10):\n",
        "  produtos = int(input('Digite o ID do produto: '))\n",
        "  if produtos % 2 == 0:\n",
        "    doces.append(produtos)\n",
        "  else:\n",
        "    amargos.append(produtos)\n",
        "\n",
        "print(f'Doces: {len(doces)}')\n",
        "print(f'Amargos: {len(amargos)}')\n"
      ],
      "metadata": {
        "id": "TfyiGZkL0HS9",
        "colab": {
          "base_uri": "https://localhost:8080/"
        },
        "outputId": "bec15d93-39e0-4d1e-fbf6-fd9611edb93b"
      },
      "execution_count": null,
      "outputs": [
        {
          "output_type": "stream",
          "name": "stdout",
          "text": [
            "Digite o ID do produto: 11\n",
            "Digite o ID do produto: 22\n",
            "Digite o ID do produto: 33\n",
            "Digite o ID do produto: 44\n",
            "Digite o ID do produto: 55\n",
            "Digite o ID do produto: 66\n",
            "Digite o ID do produto: 77\n",
            "Digite o ID do produto: 88\n",
            "Digite o ID do produto: 99\n",
            "Digite o ID do produto: 100\n",
            "Doces: 5\n",
            "Amargos: 5\n"
          ]
        }
      ]
    },
    {
      "cell_type": "markdown",
      "source": [
        "9) Desenvolva um programa que informa a nota de um(a) aluno(a) de acordo com suas respostas. Ele deve pedir a resposta desse(a) aluno(a) para cada questão e é preciso verificar se a resposta foi igual ao gabarito. Cada questão vale um ponto e existem as alternativas A, B, C ou D."
      ],
      "metadata": {
        "id": "OQKpiXXow4bz"
      }
    },
    {
      "cell_type": "code",
      "source": [
        "gabarito = ['A', 'B', 'A', 'C', 'C', 'A', 'B', 'A', 'C','D']\n",
        "respostas = []\n",
        "nota = 0\n",
        "\n",
        "for i in range(len(gabarito)):\n",
        "  pergunta = str(input('Digite a resposta: ').strip().upper())\n",
        "  respostas.append(pergunta)\n",
        "  if pergunta == gabarito[i]:\n",
        "    nota += 1\n",
        "  else:\n",
        "    nota += 0\n",
        "\n",
        "print(f'Nota: {nota}')\n"
      ],
      "metadata": {
        "colab": {
          "base_uri": "https://localhost:8080/"
        },
        "id": "KcrK6_5vtYwg",
        "outputId": "d6a15c2f-3820-41dd-bc52-efb6a9a1901d"
      },
      "execution_count": null,
      "outputs": [
        {
          "output_type": "stream",
          "name": "stdout",
          "text": [
            "Digite a resposta: a\n",
            "Digite a resposta: b\n",
            "Digite a resposta: a\n",
            "Digite a resposta: c\n",
            "Digite a resposta: c\n",
            "Digite a resposta: a\n",
            "Digite a resposta: b\n",
            "Digite a resposta: a\n",
            "Digite a resposta: c\n",
            "Digite a resposta: d\n",
            "Nota: 10\n"
          ]
        }
      ]
    },
    {
      "cell_type": "markdown",
      "source": [
        "10) Um instituto de meteorologia deseja fazer um estudo de temperatura média de cada mês do ano. Para isso, você precisa fazer um código que colete e armazene essas temperaturas médias em uma lista. Depois, calcule a média anual das temperaturas e mostre todas as temperaturas acima da média anual e em que mês elas ocorreram, mostrando os meses por extenso (Janeiro, Fevereiro, etc.)."
      ],
      "metadata": {
        "id": "LMeodH41w7Xe"
      }
    },
    {
      "cell_type": "code",
      "source": [
        "meses = ['Janeiro', 'Fevereiro', 'Março', 'Abril', 'Maio', 'Junho', 'Julho', 'Agosto', 'Setembro', 'Outubro', 'Novembro', 'Dezembro']\n",
        "temperaturas = []\n",
        "media = 0\n",
        "\n",
        "for i in range(len(meses)):\n",
        "  temperaturas = float(input('Digite a temperatura: '))\n",
        "  media += temperaturas\n",
        "  media_anual = media / len(meses)\n",
        "\n",
        "print(f'Media: {media_anual: .2f}')"
      ],
      "metadata": {
        "id": "FtKv0T81w_vw",
        "colab": {
          "base_uri": "https://localhost:8080/"
        },
        "outputId": "9d26444a-7532-4f59-db31-2de51b36401e"
      },
      "execution_count": 17,
      "outputs": [
        {
          "output_type": "stream",
          "name": "stdout",
          "text": [
            "Digite a temperatura: 28.5\n",
            "Digite a temperatura: 29.1\n",
            "Digite a temperatura: 27.8\n",
            "Digite a temperatura: 25.4\n",
            "Digite a temperatura: 22.0\n",
            "Digite a temperatura: 20.5\n",
            "Digite a temperatura: 19.8\n",
            "Digite a temperatura: 21.0\n",
            "Digite a temperatura: 23.5\n",
            "Digite a temperatura: 25.7\n",
            "Digite a temperatura: 27.0\n",
            "Digite a temperatura: 28.3\n",
            "Media:  24.88\n"
          ]
        }
      ]
    },
    {
      "cell_type": "markdown",
      "source": [
        "11) Uma empresa de e-commerce está interessada em analisar as vendas dos seus produtos. Os dados das vendas foram armazenados em um dicionário:\n",
        "\n",
        "{'Produto A': 300, 'Produto B': 80, 'Produto C': 60,\n",
        " 'Produto D': 200, 'Produto E': 250, 'Produto F': 30}\n",
        "Copiar código\n",
        "Escreva um código que calcule o total de vendas e o produto mais vendido."
      ],
      "metadata": {
        "id": "3HlhughFxAE_"
      }
    },
    {
      "cell_type": "code",
      "source": [
        "produto = {'Produto A': 300, 'Produto B': 80, 'Produto C': 60, 'Produto D': 200, 'Produto E': 250, 'Produto F': 30}\n",
        "produto_mais_vendido = list(produto.keys())[0]  # Inicializa com o primeiro produto válido\n",
        "total_vendas = 0\n",
        "\n",
        "for i in produto:\n",
        "    total_vendas += produto[i]\n",
        "    if produto[i] > produto[produto_mais_vendido]:\n",
        "        produto_mais_vendido = i\n",
        "\n",
        "print(f'Total de vendas: {total_vendas}')\n",
        "print(f'Produto mais vendido: {produto_mais_vendido}')"
      ],
      "metadata": {
        "id": "qgq1BE3CxDUA",
        "colab": {
          "base_uri": "https://localhost:8080/"
        },
        "outputId": "0ebf8b9c-d2b2-47b2-ff40-739839fa1be2"
      },
      "execution_count": null,
      "outputs": [
        {
          "output_type": "stream",
          "name": "stdout",
          "text": [
            "Total de vendas: 920\n",
            "Produto mais vendido: Produto A\n"
          ]
        }
      ]
    },
    {
      "cell_type": "markdown",
      "source": [
        "12) Uma pesquisa de mercado foi feita para decidir qual design de marca infantil mais agrada as crianças. A pesquisa foi feita e o votos computados podem ser observados abaixo:\n",
        "\n",
        "'''\n",
        "Tabela de votos da marca\n",
        "Design 1 - 1334 votos\n",
        "Design 2 - 982 votos\n",
        "Design 3 - 1751 votos\n",
        "Design 4 - 210 votos\n",
        "Design 5 - 1811 votos\n",
        "'''\n",
        "Copiar código\n",
        "Adapte os dados fornecidos para uma estrutura de dicionário. A partir dele, informe o design vencedor e a porcentagem de votos recebidos."
      ],
      "metadata": {
        "id": "m2MjJuJExD2n"
      }
    },
    {
      "cell_type": "code",
      "source": [
        "tabela = {'Design 1': 1334, 'Design 2': 982, 'Design 3': 1751, 'Design 4': 210, 'Design 5': 1811}\n",
        "design_vencedor = list(tabela.keys())[0]\n",
        "porcetagem_de_votos = 0\n",
        "\n",
        "for i in tabela:\n",
        "  porcetagem_de_votos += (tabela[i] / sum(tabela.values())) * 100\n",
        "  if tabela[i] > tabela[design_vencedor]:\n",
        "    design_vencedor = i\n",
        "\n",
        "print(f'Design vencedor: {design_vencedor}')\n",
        "print(f'Porcentagem de votos: {porcetagem_de_votos:.0f}%')"
      ],
      "metadata": {
        "id": "E7DaXF2rxHYz",
        "colab": {
          "base_uri": "https://localhost:8080/"
        },
        "outputId": "b52827f7-4818-4e5d-b8ba-f77a20b28870"
      },
      "execution_count": null,
      "outputs": [
        {
          "output_type": "stream",
          "name": "stdout",
          "text": [
            "Design vencedor: Design 5\n",
            "Porcentagem de votos: 100%\n"
          ]
        }
      ]
    },
    {
      "cell_type": "markdown",
      "source": [
        "13) As pessoas colaboradoras de um setor da empresa que você trabalha vão receber um abono correspondente a 10% do salário devido ao ótimo desempenho do time. O setor financeiro solicitou sua ajuda para a verificação das consequências financeiras que esse abono irá gerar nos recursos. Assim, foi encaminhada para você uma lista com os salários que receberão o abono: [1172, 1644, 2617, 5130, 5532, 6341, 6650, 7238, 7685, 7782, 7903]. O abono de cada colaborador(a) não pode ser inferior a 200. Em código, transforme cada um dos salários em chaves de um dicionário e o abono de cada salário no elemento. Depois, informe o total de gastos com o abono, quantos(as) colaboradores(as) receberam o abono mínimo e qual o maior valor de abono fornecido."
      ],
      "metadata": {
        "id": "uPaDT5HYxH7C"
      }
    },
    {
      "cell_type": "code",
      "source": [
        "lista_salarios = [1172, 1644, 2617, 5130, 5532, 6341, 6650, 7238, 7685, 7782, 7903]\n",
        "valor_abono = []\n",
        "for i in lista_salarios:\n",
        "  valor = max(i * 0.10, 200)\n",
        "  valor_abono.append(valor)\n",
        "\n",
        "total_gastos = sum(valor_abono)\n",
        "colaboradores_minimo = sum(1 for v in valor_abono if v == 200)\n",
        "maior_abono = max(valor_abono)\n",
        "\n",
        "print(f'Total de gastos: {total_gastos}')\n",
        "print(f'Colaboradores: {colaboradores_minimo}')\n",
        "print(f'Maior abono: {maior_abono: .2f}')"
      ],
      "metadata": {
        "id": "6ZuLBbN7xKAJ",
        "colab": {
          "base_uri": "https://localhost:8080/"
        },
        "outputId": "ac4509c1-55de-4113-949a-7c815d684cdd"
      },
      "execution_count": null,
      "outputs": [
        {
          "output_type": "stream",
          "name": "stdout",
          "text": [
            "Total de gastos: 6087.8\n",
            "Colaboradores: 2\n",
            "Maior abono:  790.30\n"
          ]
        }
      ]
    },
    {
      "cell_type": "markdown",
      "source": [
        "14) Uma equipe de cientistas de dados está estudando a diversidade biológica em uma floresta. A equipe fez a coleta de informações sobre o número de espécies de plantas e animais em cada área dessa floresta e armazenou essas informações em um dicionário. Nele, a chave descreve a área dos dados e os valores nas listas correspondem às espécies de plantas e animais nas áreas, respectivamente.\n",
        "\n",
        "{'Área Norte': [2819, 7236],\n",
        " 'Área Leste': [1440, 9492],\n",
        " 'Área Sul': [5969, 7496],\n",
        " 'Área Oeste': [14446, 49688],\n",
        " 'Área Centro': [22558, 45148]}\n",
        "Copiar código\n",
        "Escreva um código para calcular a média de espécies por área e identificar a área com a maior diversidade biológica. Dica: use as funções built-in sum() e len()."
      ],
      "metadata": {
        "id": "e3PhDbJuxKW7"
      }
    },
    {
      "cell_type": "code",
      "source": [
        "area = {'Área Norte': [2819, 7236], 'Área Leste': [1440, 9492], 'Área Sul': [5969, 7496], 'Área Oeste': [14446, 49688], 'Área Centro': [22558, 45148]}\n",
        "media = {}\n",
        "for i in area:\n",
        "    media[i] = sum(area[i]) / len(area[i])\n",
        "    print(f'{i}: {media[i]}')\n",
        "\n",
        "# Encontrar área com maior média\n",
        "maior_area = max(media, key=media.get)\n",
        "print(f'Maior diversidade: {maior_area}')"
      ],
      "metadata": {
        "id": "Pgj5VGLHxMdj",
        "colab": {
          "base_uri": "https://localhost:8080/"
        },
        "outputId": "132ad7b4-e903-4e32-e612-de8d4373f9d3"
      },
      "execution_count": 10,
      "outputs": [
        {
          "output_type": "stream",
          "name": "stdout",
          "text": [
            "Área Norte: 5027.5\n",
            "Área Leste: 5466.0\n",
            "Área Sul: 6732.5\n",
            "Área Oeste: 32067.0\n",
            "Área Centro: 33853.0\n",
            "Maior diversidade: Área Centro\n"
          ]
        }
      ]
    },
    {
      "cell_type": "markdown",
      "source": [
        "15) O setor de RH da sua empresa te pediu uma ajuda para analisar as idades de colaboradores(as) de 4 setores da empresa. Para isso, foram fornecidos os seguintes dados:\n",
        "\n",
        "{'Setor A': [22, 26, 30, 30, 35, 38, 40, 56, 57, 65],\n",
        " 'Setor B': [22, 24, 26, 33, 41, 49, 50, 54, 60, 64],\n",
        " 'Setor C': [23, 26, 26, 29, 34, 35, 36, 41, 52, 56],\n",
        " 'Setor D': [19, 20, 25, 27, 34, 39, 42, 44, 50, 65]}\n",
        "Copiar código\n",
        "Sabendo que cada setor tem 10 colaboradores(as), construa um código que calcule a média de idade de cada setor, a idade média geral entre todos os setores e quantas pessoas estão acima da idade média geral.\n",
        "\n"
      ],
      "metadata": {
        "id": "kivSMHT2xMwD"
      }
    },
    {
      "cell_type": "code",
      "source": [
        "setores = {'Setor A': [22, 26, 30, 30, 35, 38, 40, 56, 57, 65],\n",
        " 'Setor B': [22, 24, 26, 33, 41, 49, 50, 54, 60, 64],\n",
        " 'Setor C': [23, 26, 26, 29, 34, 35, 36, 41, 52, 56],\n",
        " 'Setor D': [19, 20, 25, 27, 34, 39, 42, 44, 50, 65]}\n",
        "\n",
        "media_cada = {}\n",
        "media_geral = {}\n",
        "\n",
        "for i in setores:\n",
        "  media_cada[i] = sum(setores[i]) / len(setores[i])\n",
        "  media_geral[i] = sum(media_cada.values()) / len(media_cada)\n",
        "  acima_media = sum(1 for idade in setores[i] if idade > media_geral[i])\n",
        "\n",
        "print(f\"Média de cada: {media_cada}\")\n",
        "print(f\"Média geral: {media_geral}\")\n",
        "print(f\"Quantas pessoas estão acima da media: {acima_media}\")\n"
      ],
      "metadata": {
        "id": "JZAOAFHMxPOl",
        "colab": {
          "base_uri": "https://localhost:8080/"
        },
        "outputId": "5f4a9d9a-fa7e-423c-9d15-2633096ac963"
      },
      "execution_count": 16,
      "outputs": [
        {
          "output_type": "stream",
          "name": "stdout",
          "text": [
            "Média de cada: {'Setor A': 39.9, 'Setor B': 42.3, 'Setor C': 35.8, 'Setor D': 36.5}\n",
            "Média geral: {'Setor A': 39.9, 'Setor B': 41.099999999999994, 'Setor C': 39.33333333333333, 'Setor D': 38.625}\n",
            "Quantas pessoas estão acima da media: 5\n"
          ]
        }
      ]
    }
  ]
}